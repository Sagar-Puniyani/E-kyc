{
 "cells": [
  {
   "cell_type": "code",
   "execution_count": 2,
   "metadata": {},
   "outputs": [],
   "source": [
    "import cv2\n",
    "import numpy as np\n",
    "import matplotlib.pyplot as plt"
   ]
  },
  {
   "cell_type": "code",
   "execution_count": 8,
   "metadata": {},
   "outputs": [
    {
     "data": {
      "text/plain": [
       "array([[[164, 134, 123],\n",
       "        [178, 129, 120],\n",
       "        [187, 121, 117],\n",
       "        ...,\n",
       "        [ 99, 126, 141],\n",
       "        [113, 124, 140],\n",
       "        [130, 126, 140]],\n",
       "\n",
       "       [[ 89,   7,   1],\n",
       "        [137,  22,  17],\n",
       "        [154,  14,  11],\n",
       "        ...,\n",
       "        [ 56, 164, 173],\n",
       "        [ 91, 163, 173],\n",
       "        [137, 166, 177]],\n",
       "\n",
       "       [[140,  19,  14],\n",
       "        [199,  44,  36],\n",
       "        [212,  38,  24],\n",
       "        ...,\n",
       "        [ 46, 245, 246],\n",
       "        [ 95, 240, 244],\n",
       "        [165, 244, 250]],\n",
       "\n",
       "       ...,\n",
       "\n",
       "       [[  0,  79,   0],\n",
       "        [ 32, 163,  28],\n",
       "        [  8, 171,   0],\n",
       "        ...,\n",
       "        [ 15,  28, 254],\n",
       "        [ 24,  37, 246],\n",
       "        [ 36,  47, 196]],\n",
       "\n",
       "       [[  0,  78,   0],\n",
       "        [ 34, 163,  27],\n",
       "        [  6, 172,   0],\n",
       "        ...,\n",
       "        [  8,  26, 254],\n",
       "        [ 20,  37, 246],\n",
       "        [ 36,  49, 189]],\n",
       "\n",
       "       [[ 26,  89,  17],\n",
       "        [ 46, 163,  36],\n",
       "        [ 10, 171,   0],\n",
       "        ...,\n",
       "        [  5,  29, 253],\n",
       "        [ 23,  43, 227],\n",
       "        [ 44,  58, 166]]], dtype=uint8)"
      ]
     },
     "execution_count": 8,
     "metadata": {},
     "output_type": "execute_result"
    }
   ],
   "source": [
    "# reading and displaying images\n",
    "# cv2.imread(path, flag)\n",
    "img_path = \"data/02_img.png\"\n",
    "img = cv2.imread(img_path)\n",
    "img"
   ]
  },
  {
   "cell_type": "code",
   "execution_count": 9,
   "metadata": {},
   "outputs": [
    {
     "data": {
      "text/plain": [
       "numpy.ndarray"
      ]
     },
     "execution_count": 9,
     "metadata": {},
     "output_type": "execute_result"
    }
   ],
   "source": [
    "type(img)"
   ]
  },
  {
   "cell_type": "code",
   "execution_count": 10,
   "metadata": {},
   "outputs": [
    {
     "data": {
      "text/plain": [
       "(437, 311, 3)"
      ]
     },
     "execution_count": 10,
     "metadata": {},
     "output_type": "execute_result"
    }
   ],
   "source": [
    "img.shape"
   ]
  },
  {
   "cell_type": "code",
   "execution_count": 11,
   "metadata": {},
   "outputs": [
    {
     "data": {
      "text/plain": [
       "407721"
      ]
     },
     "execution_count": 11,
     "metadata": {},
     "output_type": "execute_result"
    }
   ],
   "source": [
    "img.size"
   ]
  },
  {
   "cell_type": "code",
   "execution_count": 15,
   "metadata": {},
   "outputs": [],
   "source": [
    "cv2.imshow(\"Image Display\",img)\n",
    "cv2.waitKey(0)\n",
    "cv2.destroyAllWindows() "
   ]
  },
  {
   "cell_type": "code",
   "execution_count": 14,
   "metadata": {},
   "outputs": [
    {
     "data": {
      "image/png": "[encoded data removed]",
      "text/plain": [
       "<Figure size 640x480 with 1 Axes>"
      ]
     },
     "metadata": {},
     "output_type": "display_data"
    }
   ],
   "source": [
    "# displaying image using matplotlib\n",
    "rgb_img = cv2.cvtColor(img, cv2.COLOR_BGR2RGB)\n",
    "plt.imshow(rgb_img)\n",
    "plt.axis('off')\n",
    "plt.show()"
   ]
  },
  {
   "cell_type": "code",
   "execution_count": 17,
   "metadata": {},
   "outputs": [
    {
     "data": {
      "image/png": "[encoded data removed]",
      "text/plain": [
       "<Figure size 640x480 with 1 Axes>"
      ]
     },
     "metadata": {},
     "output_type": "display_data"
    }
   ],
   "source": [
    "# Changing color space\n",
    "\n",
    "gray_img =  cv2.cvtColor(img, cv2.COLOR_BGR2GRAY)\n",
    "\n",
    "plt.imshow(gray_img,cmap='gray')\n",
    "plt.axis('off')\n",
    "plt.show()"
   ]
  },
  {
   "cell_type": "code",
   "execution_count": 19,
   "metadata": {},
   "outputs": [
    {
     "name": "stdout",
     "output_type": "stream",
     "text": [
      "(437, 311, 3)\n"
     ]
    }
   ],
   "source": [
    "## Splitting and merging of channels \n",
    "print(img.shape)"
   ]
  },
  {
   "cell_type": "code",
   "execution_count": 31,
   "metadata": {},
   "outputs": [
    {
     "name": "stdout",
     "output_type": "stream",
     "text": [
      "Top Left:  [244  42   1]\n",
      "Top Right:  [127 235 244]\n",
      "Bottom Right:  [  9  30 255]\n",
      "Bottom Left:  [  3 170   0]\n"
     ]
    }
   ],
   "source": [
    "print('Top Left: ' , img[5,5])\n",
    "print('Top Right: ' , img[5,310])\n",
    "print('Bottom Right: ' , img[425,305])\n",
    "print('Bottom Left: ' , img[425,5])"
   ]
  },
  {
   "cell_type": "code",
   "execution_count": null,
   "metadata": {},
   "outputs": [],
   "source": []
  }
 ],
 "metadata": {
  "kernelspec": {
   "display_name": ".venv",
   "language": "python",
   "name": "python3"
  },
  "language_info": {
   "codemirror_mode": {
    "name": "ipython",
    "version": 3
   },
   "file_extension": ".py",
   "mimetype": "text/x-python",
   "name": "python",
   "nbconvert_exporter": "python",
   "pygments_lexer": "ipython3",
   "version": "3.11.3"
  }
 },
 "nbformat": 4,
 "nbformat_minor": 2
}
